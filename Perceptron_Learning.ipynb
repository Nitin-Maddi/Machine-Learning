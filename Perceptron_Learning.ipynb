{
 "cells": [
  {
   "cell_type": "code",
   "execution_count": 1,
   "metadata": {},
   "outputs": [],
   "source": [
    "import matplotlib.pyplot as plt\n",
    "import math\n",
    "def truth_table(bits, number):\n",
    "    binnum = bin(number)\n",
    "    stringbinary = str(binnum)\n",
    "    real_bin =  stringbinary[2:]\n",
    "    real_bin = '0' * (bits**2-len(real_bin)) + real_bin\n",
    "    truth_table = {}\n",
    "    for i in range(0,2**bits):\n",
    "        my_b = str(bin(i))[2:]\n",
    "        new_b = '0' * (bits-len(my_b)) + my_b\n",
    "        truth_table[new_b] = real_bin[-i-1]\n",
    "    return truth_table"
   ]
  },
  {
   "cell_type": "code",
   "execution_count": 2,
   "metadata": {},
   "outputs": [],
   "source": [
    "def perceptron(inputs,weights, bias):\n",
    "    total = 0\n",
    "    if len(weights) != len(inputs):\n",
    "        return False\n",
    "    for i in range(len(weights)):\n",
    "        total += float(weights[i]) * float(inputs[i])\n",
    "    if (total + bias) > 0:\n",
    "        return 1\n",
    "    else:\n",
    "        return 0\n"
   ]
  },
  {
   "cell_type": "code",
   "execution_count": 3,
   "metadata": {},
   "outputs": [],
   "source": [
    "def check(f_number, weights, bias):\n",
    "    bits = len(weights)\n",
    "    table = truth_table(bits, f_number)\n",
    "    correct = 0\n",
    "    for i in range(0,2**bits):\n",
    "        my_b = str(bin(i))[2:]\n",
    "        my_input = '0' * (bits - len(my_b)) + my_b\n",
    "        if perceptron(weights,tuple(my_input),bias) == int(table[my_input]):\n",
    "            correct += 1\n",
    "    return (correct / 2 ** bits) * 100"
   ]
  },
  {
   "cell_type": "code",
   "execution_count": 4,
   "metadata": {},
   "outputs": [],
   "source": [
    "def print_table(table,bits):\n",
    "    string = \"\"\n",
    "    for tup in table:\n",
    "        for i in range(bits):\n",
    "            string += tup[i] + \" \"\n",
    "        string += ': ' + table[tup]\n",
    "        print(string)\n",
    "        string = \"\""
   ]
  },
  {
   "cell_type": "code",
   "execution_count": 5,
   "metadata": {},
   "outputs": [],
   "source": [
    "def dot_product(input, weights):\n",
    "    tot = 0\n",
    "    for i in range(len(input)):\n",
    "        tot += input[i] * weights[i]\n",
    "    return tot\n",
    "        "
   ]
  },
  {
   "cell_type": "code",
   "execution_count": 6,
   "metadata": {},
   "outputs": [],
   "source": [
    "def perceptron_learn(ts,epoch,f_number,bits):\n",
    "    weights = [0] * bits\n",
    "    bias = 0\n",
    "    for i in range(epoch):\n",
    "        for key in ts:\n",
    "            predict = perceptron(weights,key,bias)\n",
    "            error = int(ts[key]) - predict\n",
    "            for j in range(len(weights)):\n",
    "                weights[j] = weights[j] + error*int(key[j])\n",
    "            bias = bias + error\n",
    "    return (check(f_number,weights, bias), weights, bias)"
   ]
  },
  {
   "cell_type": "code",
   "execution_count": 7,
   "metadata": {},
   "outputs": [
    {
     "data": {
      "text/plain": [
       "(100.0, [-1, -1], 1)"
      ]
     },
     "execution_count": 7,
     "metadata": {},
     "output_type": "execute_result"
    }
   ],
   "source": [
    "perceptron_learn(truth_table(2,1),20,1,2)"
   ]
  },
  {
   "cell_type": "code",
   "execution_count": 8,
   "metadata": {},
   "outputs": [
    {
     "name": "stdout",
     "output_type": "stream",
     "text": [
      "0 0 : 1\n",
      "0 1 : 0\n",
      "1 0 : 0\n",
      "1 1 : 0\n",
      "14\n"
     ]
    }
   ],
   "source": [
    "def check_perceptron(bits):\n",
    "    count = 0\n",
    "    for i in range(2**(2**bits)):\n",
    "        acc, weights, bias = perceptron_learn(truth_table(bits,i),50, i,bits)\n",
    "        if int(acc) == 100:\n",
    "            count += 1\n",
    "    print_table(truth_table(bits,1),bits)\n",
    "    return count\n",
    "print(check_perceptron(2))"
   ]
  },
  {
   "cell_type": "code",
   "execution_count": 9,
   "metadata": {},
   "outputs": [],
   "source": [
    "def sigmoid(val):\n",
    "    return (1/(1+math.exp(-val)))"
   ]
  },
  {
   "cell_type": "code",
   "execution_count": 10,
   "metadata": {},
   "outputs": [
    {
     "data": {
      "text/plain": [
       "0.5"
      ]
     },
     "execution_count": 10,
     "metadata": {},
     "output_type": "execute_result"
    }
   ],
   "source": [
    "sigmoid(0)"
   ]
  },
  {
   "cell_type": "code",
   "execution_count": 11,
   "metadata": {},
   "outputs": [],
   "source": [
    "def plot(bits, fnum):\n",
    "    acc, weights, bias = perceptron_learn(truth_table(bits,fnum), 50, fnum, bits)\n",
    "    blue_x = []\n",
    "    blue_y = []\n",
    "    green_x = []\n",
    "    green_y = []\n",
    "    for y in range(-200,200,1):\n",
    "        for x in range(-200, 200,1):\n",
    "            x_val = (x/100)\n",
    "            y_val = (y/100) \n",
    "            if perceptron(weights, (x_val,y_val), bias):\n",
    "                green_x.append(x_val)\n",
    "                green_y.append(y_val)\n",
    "            else:\n",
    "                blue_x.append(x_val)\n",
    "                blue_y.append(y_val)\n",
    "    plt.plot(green_x, green_y, 'go')\n",
    "    plt.plot(blue_x, blue_y, 'bo' )\n",
    "    plt.plot([0], [0], 'ro', markersize = 5)\n",
    "    plt.plot([0], [1], 'ro', markersize = 5)\n",
    "    plt.plot([1], [0], 'ro', markersize = 5)\n",
    "    plt.plot([1], [1], 'ro', markersize = 5)\n",
    "            \n",
    "            \n",
    "        "
   ]
  },
  {
   "cell_type": "code",
   "execution_count": 12,
   "metadata": {},
   "outputs": [],
   "source": [
    "def XOR_plot():\n",
    "    #acc, weights, bias = perceptron_learn(truth_table(bits,fnum), 50, fnum, bits)\n",
    "    blue_x = []\n",
    "    blue_y = []\n",
    "    green_x = []\n",
    "    green_y = []\n",
    "    weight1 = [0,1]\n",
    "    weight2 = [-1,-1]\n",
    "    weight3 = [-1,-1]\n",
    "    bias1 = 1\n",
    "    bias2 = .5\n",
    "    bias3 = .5\n",
    "    \n",
    "    for y in range(-200,200,1):\n",
    "        for x in range(-200, 200,1):\n",
    "            x_val = (x/100)\n",
    "            y_val = (y/100) \n",
    "            put = (perceptron(weight1, (x_val, y_val), bias1), perceptron(weight2, (x_val, y_val), bias2))\n",
    "            if perceptron(weight1, (x_val,y_val), bias1):\n",
    "                green_x.append(x_val)\n",
    "                green_y.append(y_val)\n",
    "            else:\n",
    "                blue_x.append(x_val)\n",
    "                blue_y.append(y_val)\n",
    "    plt.plot(green_x, green_y, 'go')\n",
    "    plt.plot(blue_x, blue_y, 'bo' )\n",
    "    plt.plot([0], [0], 'ro', markersize = 5)\n",
    "    plt.plot([0], [1], 'ro', markersize = 5)\n",
    "    plt.plot([1], [0], 'ro', markersize = 5)\n",
    "    plt.plot([1], [1], 'ro', markersize = 5)\n",
    "            \n",
    "            \n",
    "        "
   ]
  },
  {
   "cell_type": "code",
   "execution_count": 50,
   "metadata": {},
   "outputs": [],
   "source": [
    "def circular_plot():\n",
    "    blue_x = []\n",
    "    blue_y = []\n",
    "    green_x = []\n",
    "    green_y = []\n",
    "    lightgreen_x = []\n",
    "    lightgreen_y = []\n",
    "    lightblue_x = []\n",
    "    lightblue_y = []\n",
    "    weight1 = [1,0]\n",
    "    weight2 = [-1,0]\n",
    "    weight3 = [0,1]\n",
    "    weight4 = [0,-1]\n",
    "    weight5 = [1.0001,1.0001,1.0001,1.0001]\n",
    "    bias1 = 1\n",
    "    bias2 = 1\n",
    "    bias3 =1\n",
    "    bias4 =1\n",
    "    bias5 = -2.84088495\n",
    "    unit_points = 0\n",
    "    correct = 0\n",
    "    for y in range(-150,150,1):\n",
    "            for x in range(-150, 150,1):\n",
    "                x_val = (x/100)\n",
    "                y_val = (y/100) \n",
    "                unit_circle = (x_val)**2 + (y_val)**2\n",
    "                put1 = sigmoid(dot_product((x_val, y_val),weight1) +bias1)\n",
    "                put2 = sigmoid(dot_product((x_val, y_val),weight2) +bias2)\n",
    "                put3 = sigmoid(dot_product((x_val, y_val),weight3) +bias3)\n",
    "                put4 = sigmoid(dot_product((x_val, y_val),weight4) +bias4)\n",
    "                put = (put1, put2, put3, put4)\n",
    "                if perceptron(weight5,put, bias5):\n",
    "                    if unit_circle <= 1:\n",
    "                        correct += 1\n",
    "                        unit_points += 1\n",
    "                        green_x.append(x_val)\n",
    "                        green_y.append(y_val)\n",
    "                    else:\n",
    "                        unit_points += 1\n",
    "                        lightgreen_x.append(x_val)\n",
    "                        lightgreen_y.append(y_val)\n",
    "                else:\n",
    "                    if unit_circle <= 1:\n",
    "                        lightblue_x.append(x_val)\n",
    "                        lightblue_y.append(y_val)\n",
    "                        unit_points += 1\n",
    "                    else:\n",
    "                        correct += 1\n",
    "                        unit_points += 1\n",
    "                        blue_x.append(x_val)\n",
    "                        blue_y.append(y_val)\n",
    "                               \n",
    "    plt.plot(green_x, green_y, 'go')\n",
    "    plt.plot(blue_x, blue_y, 'bo' )\n",
    "    plt.plot(lightgreen_x, lightgreen_y, 'go', color = '#49e547', markersize = .5)\n",
    "    plt.plot(lightblue_x, lightblue_y, 'bo', color = '#6bafef',markersize = .5)\n",
    "    #plt.plot(unit_x, unit_y, 'ro')  \n",
    "    plt.axis('equal')\n",
    "    plt.plot([0], [0], 'ro', markersize = 5)\n",
    "    plt.plot([0], [1], 'ro', markersize = 5)\n",
    "    plt.plot([1], [0], 'ro', markersize = 5)\n",
    "    plt.plot([1], [1], 'ro', markersize = 5)\n",
    "    print(unit_points)\n",
    "    print(correct/unit_points)\n",
    "    "
   ]
  },
  {
   "cell_type": "code",
   "execution_count": 14,
   "metadata": {},
   "outputs": [
    {
     "data": {
      "image/png": "[encoded data removed]",
      "text/plain": [
       "<Figure size 432x288 with 1 Axes>"
      ]
     },
     "metadata": {},
     "output_type": "display_data"
    }
   ],
   "source": [
    "plot(2,6)"
   ]
  },
  {
   "cell_type": "code",
   "execution_count": 15,
   "metadata": {},
   "outputs": [
    {
     "data": {
      "image/png": "[encoded data removed]",
      "text/plain": [
       "<Figure size 432x288 with 1 Axes>"
      ]
     },
     "metadata": {},
     "output_type": "display_data"
    }
   ],
   "source": [
    "plot(2, 14)"
   ]
  },
  {
   "cell_type": "code",
   "execution_count": 16,
   "metadata": {},
   "outputs": [
    {
     "data": {
      "image/png": "[encoded data removed]",
      "text/plain": [
       "<Figure size 432x288 with 1 Axes>"
      ]
     },
     "metadata": {},
     "output_type": "display_data"
    }
   ],
   "source": [
    "plot(2, 1)"
   ]
  },
  {
   "cell_type": "code",
   "execution_count": 17,
   "metadata": {},
   "outputs": [
    {
     "data": {
      "image/png": "[encoded data removed]",
      "text/plain": [
       "<Figure size 432x288 with 1 Axes>"
      ]
     },
     "metadata": {},
     "output_type": "display_data"
    }
   ],
   "source": [
    "plot(2, 6)"
   ]
  },
  {
   "cell_type": "code",
   "execution_count": 18,
   "metadata": {},
   "outputs": [
    {
     "data": {
      "image/png": "[encoded data removed]",
      "text/plain": [
       "<Figure size 432x288 with 1 Axes>"
      ]
     },
     "metadata": {},
     "output_type": "display_data"
    }
   ],
   "source": [
    "XOR_plot()"
   ]
  },
  {
   "cell_type": "code",
   "execution_count": 51,
   "metadata": {},
   "outputs": [
    {
     "name": "stdout",
     "output_type": "stream",
     "text": [
      "90000\n",
      "0.9933333333333333\n"
     ]
    },
    {
     "data": {
      "image/png": "[encoded data removed]",
      "text/plain": [
       "<Figure size 432x288 with 1 Axes>"
      ]
     },
     "metadata": {},
     "output_type": "display_data"
    }
   ],
   "source": [
    "circular_plot()"
   ]
  },
  {
   "cell_type": "markdown",
   "metadata": {},
   "source": []
  },
  {
   "cell_type": "code",
   "execution_count": null,
   "metadata": {},
   "outputs": [],
   "source": []
  }
 ],
 "metadata": {
  "kernelspec": {
   "display_name": "Python 3",
   "language": "python",
   "name": "python3"
  },
  "language_info": {
   "codemirror_mode": {
    "name": "ipython",
    "version": 3
   },
   "file_extension": ".py",
   "mimetype": "text/x-python",
   "name": "python",
   "nbconvert_exporter": "python",
   "pygments_lexer": "ipython3",
   "version": "3.6.5"
  }
 },
 "nbformat": 4,
 "nbformat_minor": 2
}
